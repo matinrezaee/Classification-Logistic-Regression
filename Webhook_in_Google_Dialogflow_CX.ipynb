{
  "cells": [
    {
      "cell_type": "markdown",
      "metadata": {
        "id": "view-in-github",
        "colab_type": "text"
      },
      "source": [
        "<a href=\"https://colab.research.google.com/github/matinrezaee/Classification-Logistic-Regression/blob/main/Webhook_in_Google_Dialogflow_CX.ipynb\" target=\"_parent\"><img src=\"https://colab.research.google.com/assets/colab-badge.svg\" alt=\"Open In Colab\"/></a>"
      ]
    },
    {
      "cell_type": "markdown",
      "source": [
        "Here is an example of how to write a webhook in Google Dialogflow CX that retrieves real-time weather data from an external weather API using the user's location:\n",
        "\n",
        "**External Weather API:**\n",
        "\n",
        "You can use the OpenWeatherMap API to retrieve weather data. You'll need to create an account and obtain an API key.\n",
        "\n",
        "**Webhook Code:**"
      ],
      "metadata": {
        "id": "kTOG2q-iDPat"
      }
    },
    {
      "cell_type": "code",
      "source": [
        "import json\n",
        "import requests\n",
        "import os\n",
        "\n",
        "def fulfill_webhook(session_id, request):\n",
        "    \"\"\"Fulfillment callback for the 'getWeatherForecast' intent.\"\"\"\n",
        "\n",
        "    # Extract user's location from the request\n",
        "    location = request['queryResult']['parameters']['location']\n",
        "\n",
        "    # Get the API key from an environment variable\n",
        "    api_key = os.getenv('81c50adcea26ec4dc6a04c58e586c351')\n",
        "\n",
        "    # Construct the OpenWeatherMap API URL with metric units\n",
        "    api_url = f\"https://api.openweathermap.org/data/2.5/weather?q={location}&appid={api_key}&units=metric\"\n",
        "\n",
        "    try:\n",
        "        # Send the API request and receive the response\n",
        "        response = requests.get(api_url)\n",
        "        response.raise_for_status()  # Raise an exception for HTTP errors\n",
        "        weather_data = response.json()\n",
        "\n",
        "        # Extract relevant weather information\n",
        "        current_temperature = weather_data['main']['temp']\n",
        "        weather_description = weather_data['weather'][0]['description']\n",
        "\n",
        "        # Format the weather information into a coherent response\n",
        "        response_text = f\"The current temperature in {location} is {current_temperature} degrees Celsius. The weather is {weather_description}.\"\n",
        "\n",
        "    except requests.RequestException as e:\n",
        "        # Handle request errors\n",
        "        response_text = f\"Sorry, I couldn't fetch the weather for {location}.\"\n",
        "\n",
        "    # Return the weather response to Dialogflow\n",
        "    return {\n",
        "        \"fulfillmentText\": response_text,\n",
        "    }\n"
      ],
      "outputs": [],
      "execution_count": null,
      "metadata": {
        "id": "HqDfk0SrDPax"
      }
    },
    {
      "cell_type": "markdown",
      "source": [
        "**Integration with Dialogflow CX:**\n",
        "\n",
        "1. **Create a webhook integration:** In your Dialogflow CX agent, go to the \"Fulfillments\" section and click \"Create Integration.\" Select \"HTTP Webhook\" as the integration type and provide the URL of your webhook script.\n",
        "\n",
        "2. **Map intent to webhook:** Create an intent named \"getWeatherForecast\" and map it to the webhook integration. This will ensure that whenever a user utterance matches the intent, the webhook will be triggered to handle the request.\n",
        "\n",
        "3. **Set location parameter:** In the intent parameters, add a parameter named \"location\". This parameter will capture the user's location from the conversation and pass it to the webhook.\n",
        "\n",
        "4. **Test the weather forecast:** Trigger the \"getWeatherForecast\" intent with a user utterance that specifies the location, such as \"What is the weather in San Francisco?\". Ensure that the webhook retrieves the correct weather data and provides a relevant response to the user."
      ],
      "metadata": {
        "id": "qPkiGu-ODPay"
      }
    }
  ],
  "metadata": {
    "colab": {
      "provenance": [],
      "include_colab_link": true
    },
    "kernelspec": {
      "display_name": "Python 3",
      "name": "python3"
    }
  },
  "nbformat": 4,
  "nbformat_minor": 0
}