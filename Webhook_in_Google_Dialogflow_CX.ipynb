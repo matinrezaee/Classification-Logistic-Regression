   {
      "cell_type": "code",
      "source": [
        "import json\n",
        "import requests\n",
        "import os\n",
        "\n",
        "def fulfill_webhook(session_id, request):\n",
        "    \"\"\"Fulfillment callback for the 'getWeatherForecast' intent.\"\"\"\n",
        "\n",
        "    # Extract user's location from the request\n",
        "    location = request['queryResult']['parameters']['location']\n",
        "\n",
        "    # Get the API key from an environment variable\n",
        "    api_key = os.getenv('81c50adcea26ec4dc6a04c58e586c351')\n",
        "\n",
        "    # Construct the OpenWeatherMap API URL with metric units\n",
        "    api_url = f\"https://api.openweathermap.org/data/2.5/weather?q={location}&appid={api_key}&units=metric\"\n",
        "\n",
        "    try:\n",
        "        # Send the API request and receive the response\n",
        "        response = requests.get(api_url)\n",
        "        response.raise_for_status()  # Raise an exception for HTTP errors\n",
        "        weather_data = response.json()\n",
        "\n",
        "        # Extract relevant weather information\n",
        "        current_temperature = weather_data['main']['temp']\n",
        "        weather_description = weather_data['weather'][0]['description']\n",
        "\n",
        "        # Format the weather information into a coherent response\n",
        "        response_text = f\"The current temperature in {location} is {current_temperature} degrees Celsius. The weather is {weather_description}.\"\n",
        "\n",
        "    except requests.RequestException as e:\n",
        "        # Handle request errors\n",
        "        response_text = f\"Sorry, I couldn't fetch the weather for {location}.\"\n",
        "\n",
        "    # Return the weather response to Dialogflow\n",
        "    return {\n",
        "        \"fulfillmentText\": response_text,\n",
        "    }\n"
      ],
      "outputs": [],
      "execution_count": null,
      "metadata": {
        "id": "HqDfk0SrDPax"
      }
    }
      }
    }
  ],
  "metadata": {
    "colab": {
      "provenance": [],
      "include_colab_link": true
    },
    "kernelspec": {
      "display_name": "Python 3",
      "name": "python3"
    }
  },
  "nbformat": 4,
  "nbformat_minor": 0
}
